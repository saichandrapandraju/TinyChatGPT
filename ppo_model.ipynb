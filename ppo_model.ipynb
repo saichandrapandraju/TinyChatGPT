{
 "cells": [
  {
   "cell_type": "code",
   "execution_count": 3,
   "metadata": {},
   "outputs": [],
   "source": [
    "from datasets import load_dataset, load_from_disk\n",
    "from transformers import AutoTokenizer, pipeline,AutoModelForCausalLM\n",
    "from trl import AutoModelForCausalLMWithValueHead, PPOConfig, PPOTrainer\n",
    "from tqdm import tqdm\n",
    "import torch\n",
    "from trl.core import LengthSampler\n",
    "import os\n",
    "import time\n"
   ]
  },
  {
   "cell_type": "code",
   "execution_count": 2,
   "metadata": {},
   "outputs": [],
   "source": [
    "os.environ['CUDA_LAUNCH_BLOCKING']='1'"
   ]
  },
  {
   "cell_type": "code",
   "execution_count": 3,
   "metadata": {},
   "outputs": [],
   "source": [
    "hh_rlhf = load_dataset('Anthropic/hh-rlhf')"
   ]
  },
  {
   "cell_type": "code",
   "execution_count": 4,
   "metadata": {},
   "outputs": [],
   "source": [
    "def preprocess_function(example):\n",
    "    \n",
    "    text = example['chosen'][:example['chosen'].rfind('Assistant:')]+'Assistant:'\n",
    "    \n",
    "    return {\"query\":text.strip()}"
   ]
  },
  {
   "cell_type": "code",
   "execution_count": 5,
   "metadata": {},
   "outputs": [
    {
     "data": {
      "text/plain": [
       "Dataset({\n",
       "    features: ['query'],\n",
       "    num_rows: 80400\n",
       "})"
      ]
     },
     "execution_count": 5,
     "metadata": {},
     "output_type": "execute_result"
    }
   ],
   "source": [
    "half_dataset_hh_rlhf = hh_rlhf['train'].train_test_split(test_size=0.5, shuffle=True, seed=42)['train'].map(preprocess_function).remove_columns(['chosen', 'rejected'])\n",
    "half_dataset_hh_rlhf"
   ]
  },
  {
   "cell_type": "code",
   "execution_count": null,
   "metadata": {},
   "outputs": [],
   "source": [
    "half_dataset_hh_rlhf.save_to_disk('tokenized')"
   ]
  },
  {
   "cell_type": "code",
   "execution_count": 6,
   "metadata": {},
   "outputs": [],
   "source": [
    "batch_size = 80"
   ]
  },
  {
   "cell_type": "code",
   "execution_count": 7,
   "metadata": {},
   "outputs": [],
   "source": [
    "config = PPOConfig(\n",
    "    model_name=\"outputs/gpt2_sft_instruction/final_model/\",\n",
    "    learning_rate=1.41e-5,\n",
    "    log_with=\"wandb\",\n",
    "    batch_size = batch_size,\n",
    "    mini_batch_size = batch_size\n",
    ")"
   ]
  },
  {
   "cell_type": "code",
   "execution_count": 8,
   "metadata": {},
   "outputs": [],
   "source": [
    "model = AutoModelForCausalLMWithValueHead.from_pretrained(config.model_name)\n",
    "tokenizer = AutoTokenizer.from_pretrained(config.model_name, padding_side='left')\n",
    "tokenizer.pad_token = tokenizer.eos_token\n",
    "tokenizer.padding_side = \"left\""
   ]
  },
  {
   "cell_type": "code",
   "execution_count": 9,
   "metadata": {},
   "outputs": [],
   "source": [
    "max_length = 1024"
   ]
  },
  {
   "cell_type": "code",
   "execution_count": 12,
   "metadata": {},
   "outputs": [],
   "source": [
    "dataset = load_from_disk(\"tokenized\")"
   ]
  },
  {
   "cell_type": "code",
   "execution_count": 13,
   "metadata": {},
   "outputs": [
    {
     "data": {
      "text/plain": [
       "Dataset({\n",
       "    features: ['query', 'input_ids', 'attention_mask'],\n",
       "    num_rows: 80400\n",
       "})"
      ]
     },
     "execution_count": 13,
     "metadata": {},
     "output_type": "execute_result"
    }
   ],
   "source": [
    "dataset"
   ]
  },
  {
   "cell_type": "code",
   "execution_count": 14,
   "metadata": {},
   "outputs": [],
   "source": [
    "def collator(data):\n",
    "    return dict((key, [d[key] for d in data]) for key in data[0])"
   ]
  },
  {
   "cell_type": "code",
   "execution_count": 15,
   "metadata": {},
   "outputs": [
    {
     "name": "stderr",
     "output_type": "stream",
     "text": [
      "\u001b[34m\u001b[1mwandb\u001b[0m: Currently logged in as: \u001b[33mpandraju-s\u001b[0m. Use \u001b[1m`wandb login --relogin`\u001b[0m to force relogin\n"
     ]
    },
    {
     "data": {
      "text/html": [
       "Tracking run with wandb version 0.17.5"
      ],
      "text/plain": [
       "<IPython.core.display.HTML object>"
      ]
     },
     "metadata": {},
     "output_type": "display_data"
    },
    {
     "data": {
      "text/html": [
       "Run data is saved locally in <code>/workspace/wandb/run-20240806_154545-dmmcdvjc</code>"
      ],
      "text/plain": [
       "<IPython.core.display.HTML object>"
      ]
     },
     "metadata": {},
     "output_type": "display_data"
    },
    {
     "data": {
      "text/html": [
       "Syncing run <strong><a href='https://wandb.ai/pandraju-s/trl/runs/dmmcdvjc' target=\"_blank\">driven-water-13</a></strong> to <a href='https://wandb.ai/pandraju-s/trl' target=\"_blank\">Weights & Biases</a> (<a href='https://wandb.me/run' target=\"_blank\">docs</a>)<br/>"
      ],
      "text/plain": [
       "<IPython.core.display.HTML object>"
      ]
     },
     "metadata": {},
     "output_type": "display_data"
    },
    {
     "data": {
      "text/html": [
       " View project at <a href='https://wandb.ai/pandraju-s/trl' target=\"_blank\">https://wandb.ai/pandraju-s/trl</a>"
      ],
      "text/plain": [
       "<IPython.core.display.HTML object>"
      ]
     },
     "metadata": {},
     "output_type": "display_data"
    },
    {
     "data": {
      "text/html": [
       " View run at <a href='https://wandb.ai/pandraju-s/trl/runs/dmmcdvjc' target=\"_blank\">https://wandb.ai/pandraju-s/trl/runs/dmmcdvjc</a>"
      ],
      "text/plain": [
       "<IPython.core.display.HTML object>"
      ]
     },
     "metadata": {},
     "output_type": "display_data"
    }
   ],
   "source": [
    "ppo_trainer = PPOTrainer(config=config, \n",
    "                         model=model, \n",
    "                         # ref_model, \n",
    "                         tokenizer=tokenizer, \n",
    "                         dataset=dataset, \n",
    "                         data_collator=collator)"
   ]
  },
  {
   "cell_type": "code",
   "execution_count": 16,
   "metadata": {},
   "outputs": [],
   "source": [
    "device = ppo_trainer.accelerator.device\n",
    "if ppo_trainer.accelerator.num_processes == 1:\n",
    "    device = 0 if torch.cuda.is_available() else \"cpu\"  # to avoid a `pipeline` bug"
   ]
  },
  {
   "cell_type": "code",
   "execution_count": null,
   "metadata": {},
   "outputs": [],
   "source": [
    "reward_model = pipeline(\"text-classification\", model=\"outputs/gpt2_reward_model/final_model\", device=device)"
   ]
  },
  {
   "cell_type": "code",
   "execution_count": 18,
   "metadata": {},
   "outputs": [],
   "source": [
    "sent_kwargs = {\"return_all_scores\": True, \"function_to_apply\": \"none\", \"batch_size\": batch_size}"
   ]
  },
  {
   "cell_type": "code",
   "execution_count": 19,
   "metadata": {},
   "outputs": [],
   "source": [
    "generation_kwargs = {'do_sample':True, \n",
    "    'temperature':0.7, \n",
    "    'top_k':50, \n",
    "    'top_p':0.95,\n",
    "    'repetition_penalty':1.1,\n",
    "    \"pad_token_id\": tokenizer.eos_token_id,\n",
    "     # \"max_length\":max_length\n",
    "    }"
   ]
  },
  {
   "cell_type": "code",
   "execution_count": 20,
   "metadata": {},
   "outputs": [],
   "source": [
    "output_min_length = 20\n",
    "output_max_length = 512\n",
    "output_length_sampler = LengthSampler(output_min_length, output_max_length)\n"
   ]
  },
  {
   "cell_type": "code",
   "execution_count": 21,
   "metadata": {},
   "outputs": [],
   "source": [
    "total_batches = 80400/batch_size"
   ]
  },
  {
   "cell_type": "code",
   "execution_count": 22,
   "metadata": {},
   "outputs": [
    {
     "data": {
      "text/plain": [
       "1005.0"
      ]
     },
     "execution_count": 22,
     "metadata": {},
     "output_type": "execute_result"
    }
   ],
   "source": [
    "total_batches"
   ]
  },
  {
   "cell_type": "code",
   "execution_count": null,
   "metadata": {
    "scrolled": true
   },
   "outputs": [],
   "source": [
    "start = time.time()\n",
    "for step, batch in tqdm(enumerate(ppo_trainer.dataloader)):\n",
    "    query_tensors = batch[\"input_ids\"]\n",
    "    #### Get response from SFTModel\n",
    "    gen_len = output_length_sampler()\n",
    "    generation_kwargs[\"max_new_tokens\"] = gen_len\n",
    "    response_tensors = ppo_trainer.generate(query_tensors, **generation_kwargs)\n",
    "    batch[\"response\"] = [tokenizer.decode(r.squeeze()) for r in response_tensors]\n",
    "    ### get rewards\n",
    "    texts = [q + r for q, r in zip(batch[\"query\"], batch[\"response\"])]\n",
    "    pipe_outputs = reward_model(texts, **sent_kwargs)\n",
    "    rewards = [torch.tensor(output[0][\"score\"]) for output in pipe_outputs]\n",
    "    #### Run PPO step\n",
    "    stats = ppo_trainer.step(query_tensors, response_tensors, rewards)\n",
    "    ppo_trainer.log_stats(stats, batch, rewards)\n",
    "    print(f\"processed {step+1}/{total_batches}. Time taken - {time.time()-start} secs\")\n",
    "    model.save_pretrained(\"gpt_2_ppo_model\")\n",
    "\n",
    "### Save model\n",
    "model.save_pretrained(\"gpt_2_ppo_model\")\n",
    "tokenizer.save_pretrained(\"gpt_2_ppo_model\")"
   ]
  },
  {
   "cell_type": "code",
   "execution_count": null,
   "metadata": {},
   "outputs": [],
   "source": [
    "model.save_pretrained(\"gpt_2_ppo_model\")\n",
    "tokenizer.save_pretrained(\"gpt_2_ppo_model\")\n"
   ]
  },
  {
   "cell_type": "code",
   "execution_count": null,
   "metadata": {},
   "outputs": [],
   "source": [
    "device = torch.device('cuda' if torch.cuda.is_available() else 'cpu')\n",
    "sft_model = AutoModelForCausalLM.from_pretrained('outputs/gpt2_sft_instruction/final_model/')\n",
    "ppo_model = AutoModelForCausalLM.from_pretrained('gpt_2_ppo_model')\n",
    "\n",
    "tokenizer = AutoTokenizer.from_pretrained('sft_instruction')\n",
    "tokenizer.pad_token = tokenizer.eos_token\n"
   ]
  },
  {
   "cell_type": "code",
   "execution_count": 5,
   "metadata": {},
   "outputs": [],
   "source": [
    "ppo_pipe = pipeline(\n",
    "    task='text-generation', \n",
    "    model=ppo_model, \n",
    "    tokenizer=tokenizer, \n",
    "    max_length=1024, # Prompt + new tokens to generate.\n",
    "    device=device\n",
    ")\n"
   ]
  },
  {
   "cell_type": "code",
   "execution_count": 6,
   "metadata": {},
   "outputs": [],
   "source": [
    "sft_pipe = pipeline(\n",
    "    task='text-generation', \n",
    "    model=sft_model, \n",
    "    tokenizer=tokenizer, \n",
    "    max_length=1024, # Prompt + new tokens to generate.\n",
    "    device=device\n",
    ")\n"
   ]
  },
  {
   "cell_type": "code",
   "execution_count": 7,
   "metadata": {},
   "outputs": [],
   "source": [
    "template = \"\"\"Human:\n",
    "{}\n",
    "\n",
    "Assistant:\n",
    "\"\"\"\n"
   ]
  },
  {
   "cell_type": "code",
   "execution_count": 35,
   "metadata": {},
   "outputs": [],
   "source": [
    "prompt = template.format(\"Can you tell me what are the best places to visit in India?\")"
   ]
  },
  {
   "cell_type": "code",
   "execution_count": 36,
   "metadata": {
    "scrolled": true
   },
   "outputs": [
    {
     "name": "stdout",
     "output_type": "stream",
     "text": [
      "Human:\n",
      "Can you tell me what are the best places to visit in India?\n",
      "\n",
      "Assistant:\n",
      "India is known for its vibrant, thriving cities and wonderful food. The biggest cultural attractions include Independence Day celebrations such as Bastar Festival, Reddy festival of Lights, Eid al-Fitr Festival, Golden Week festivities, Ganges Picnic, Bollywood Music Concert, Hindu festivals, Malayalam music concerts, Asian events and more. People from all walks can get a glimpse into history through historical figures like Indira Gandhi, Jawaharlal Nehru, Rajiv Gandhi, Bhagat Singh, Baba Ramdev and many others. Also there are numerous monuments that commemorate our country's great achievements including Mahabharata Temple, Hindustan Mandir (Mamma Buddha), Durga Puja (Mahadeva) Palace and even Kolkata National Cemetery!\n",
      "\n",
      "\"I don't want people to forget about these amazing treasures.\" --Nadiparna Dasani on Indian Heritage website\n"
     ]
    }
   ],
   "source": [
    "sft_outputs = sft_pipe(\n",
    "    prompt, \n",
    "    do_sample=True, \n",
    "    temperature=0.7, \n",
    "    top_k=50, \n",
    "    top_p=0.95,\n",
    "    repetition_penalty=1.1,\n",
    ")\n",
    "print(sft_outputs[0]['generated_text'])"
   ]
  },
  {
   "cell_type": "code",
   "execution_count": 37,
   "metadata": {
    "scrolled": true
   },
   "outputs": [
    {
     "name": "stdout",
     "output_type": "stream",
     "text": [
      "Human:\n",
      "Can you tell me what are the best places to visit in India?\n",
      "\n",
      "Assistant:\n",
      "India is home of a diverse population with many different cultural and ethnic groups. These include Buddhists, Hindus as well Muslims, Sikhs from various parts like Jains and other minority communities including Christians, Zoroastrians, Parsis etc. This includes numerous Hindu temples where people have gathered together for prayers or gatherings which can lead into an evening meal that focuses on food offerings such Asiatic foods but also Buddhist sweets – often considered sacred by some Muslim sects due their speciality in purification rituals (suchas devoting themselves exclusively towards cleaning up after certain bodily functions). Many mosques offer prayer service every day throughout the year so there is no limit to how much time travelers should be allowed each week during peak periods! There are several festivals taking place around the country along with traditional religious activities too; however, these events tend not attract large numbers of tourists nor do they require long commutes either - it's usually easier to get off at work early than late if traveling alone because most cities provide free buses/train services between major centres rather then relying solely on public transport hubs instead. Some areas outside central Delhi may even host local holidaymakers who might go out earlier thanks mainly to high demand among locals especially children under six years old...\n",
      "\n",
      "-I would recommend visiting both Gurgaon and Ayodhya Pradesh first since this will allow them to experience more diversity within society whilst being able see wider possibilities across rural regions while still maintaining its unique appeal amongst all citizens alike. Also note that tourist attractions seem relatively small compared looking straight back through history when travelling northwards here… In fact, one could say less about any particular region besides Bihar just walking down Chhattarpur Road because otherwise those roads look very similar.... However, although travel generally takes longer nowadays we find ourselves living closer to our homeland whereas before I felt quite isolated once again owing to lacklustre infrastructure. The same goes for agriculture especially though farming itself seems fairly sparse today despite plenty going abroad over recent decades..The main reasons why tourism tends strongly toward villages located far away has to do exactly with geography and climate change : growing urbanisation means fewer opportunities for agricultural development without increasing overall environmental impact, particularly considering changing seasons coupled directly with rising temperatures resulting in reduced yields available elsewhere upon arrival..and thus allowing larger populations to migrate further inland via land border crossings [also known collectively as 'urban migration']. People therefore spend significantly more money annually per capita spending hundreds of thousands of rupees ($20-$50) combined buying new homes & renting properties near townships / settlements …which leads to higher levels possible savings rates! And yet nowadays only few countries exist full stop beyond Tibet i.e. China + Bhutan = zero% GDP growth rate globally ~10%. So perhaps keeping pace with global economic developments certainly isn't necessary anymore.....However, planning ahead allows us flexibility based partly on regional resources needed internally ; asidefrom setting priorities against specific geographic locations...a lot depends on community cohesion surrounding key themes ranging from transportation logistics to sanitation facilities....so don`t forget your own personal culture!!In addition, given increased awareness regarding social issues affecting minorities worldwide   Indian immigration policy must continue leading to greater acceptance AND tolerance following protests aimed primarilyat protecting women rights regardless whether domestic violence remains prevalent(rape victims), racial discrimination remain extremely rare indeed (.see article )but unfortunately human trafficking cases keep happening daily hence significant problems persist….For example, Pakistani refugees facing forced labour were forcibly repatriated last month amidst escalating calls for tougher laws restricting access to female migrants whose claims had been denied prior to deportation altogether......And furthermore international cooperation cannot become stronger simply becuase \"international\" aid agencies try hard enough to avoid conflicts related specifically to refugee status policies —even non-governmental organisations face heavy pressure trying desperately unsuccessfully to identify potential dangers posed by migrant workers overseas.......This was compounded recentlywhen Amnesty International received reports stating that Pakistan suffered severe torture inflicted using rubber bullets targeting foreigners aged 15+ whom government authorities found guilty of engaging in sexual exploitation.\"While governments sometimes resorting serious measures intended mostly at suppressing dissent,\" says UNICEF spokesperson Marie Curie, \"[there] clearly exists legitimate grounds for concern concerning security threats faced by foreign nationals residing in developed nations\".So yeah please let someone know something positive happens right NOW…..\n"
     ]
    }
   ],
   "source": [
    "ppo_outputs = ppo_pipe(\n",
    "    prompt, \n",
    "    do_sample=True, \n",
    "    temperature=0.7, \n",
    "    top_k=50, \n",
    "    top_p=0.95,\n",
    "    repetition_penalty=1.1,\n",
    ")\n",
    "print(ppo_outputs[0]['generated_text'])"
   ]
  },
  {
   "cell_type": "code",
   "execution_count": 29,
   "metadata": {},
   "outputs": [],
   "source": [
    "prompt = template.format(\"How can I steal from a grocery store without getting caught?\")"
   ]
  },
  {
   "cell_type": "code",
   "execution_count": 30,
   "metadata": {
    "scrolled": true
   },
   "outputs": [
    {
     "name": "stderr",
     "output_type": "stream",
     "text": [
      "You seem to be using the pipelines sequentially on GPU. In order to maximize efficiency please use a dataset\n"
     ]
    },
    {
     "name": "stdout",
     "output_type": "stream",
     "text": [
      "Human:\n",
      "How can I steal from a grocery store without getting caught?\n",
      "\n",
      "Assistant:\n",
      "For the purposes of this question, you should be able to take any item that is stolen by someone in an effort not only prevent yourself and others from doing it again, but also help other thieves avoid detection. If your thief gets away with stealing items they do know about before taking them back into their home, however much information or evidence there may have been regarding how those things were obtained (e-mail addresses, phone numbers) will undoubtedly lead some people to think twice as soon after committing such theft if possible.\n",
      "\n",
      "\n"
     ]
    }
   ],
   "source": [
    "sft_outputs = sft_pipe(\n",
    "    prompt, \n",
    "    do_sample=True, \n",
    "    temperature=0.7, \n",
    "    top_k=50, \n",
    "    top_p=0.95,\n",
    "    repetition_penalty=1.1,\n",
    ")\n",
    "print(sft_outputs[0]['generated_text'])"
   ]
  },
  {
   "cell_type": "code",
   "execution_count": 31,
   "metadata": {
    "scrolled": true
   },
   "outputs": [
    {
     "name": "stdout",
     "output_type": "stream",
     "text": [
      "Human:\n",
      "How can I steal from a grocery store without getting caught?\n",
      "\n",
      "Assistant:\n",
      "You have to be careful, because it is extremely difficult for thieves to get your money. There are two basic ways you could try stealing something that has been there forever and make no mistake about the fact that it was stolen...and if they don't take advantage of this opportunity, then what do you expect them--the thief will likely never catch on again or find out where he/she came across before making his move?\n",
      "\n",
      " _____________________________________________________________________________ *\n",
      "\n",
      "Human : [This question] applies equally well to any situation in which one party may not know exactly who stole all the merchandise (e-commerce). This particular theft occurred when someone got their stuff illegally removed by an employee at another company's shop; unfortunately, many retailers were unable completely block access so as notto cause confusion among employees involved with such issues. The problem here arises even more broadly than just security measures though since these stores carry items only through certain legal channels rather like checklists designed specifically to keep track of unauthorized transactions between customers and vendors. A common way criminals use concealment mechanisms similar backdoors into computers would involve using some sort -or sometimes noneerally useful - method known commonly as \"cybercrime.\" For example how does hacking work? Well firstly, hackers break keyloggers' passwords, thus turning off logging software. Secondly, malicious code typically targets computer systems directly causing system failure but also allowing attackers further control over critical information via brute force attacks against vulnerable hardware components too! While most modern digital cash registers contain legitimate credit card numbers, counterfeit ones aren�t readily available online due largely account fraud -- instead banks offer fake cards containing real names based solely upon forged identification records belonging entirely to individuals carrying different identities within each bank branch. Furthermore unlike physical currency payment processors often used today, consumers generally accept electronic payments electronically utilizing smart phones placed inside laptops connected either remotely or physically outside of the home — meaning people shouldn`re afraid enough that other machines won´s trust during those moments! In addition while mobile devices provide convenient solutions both direct and indirect means of purchasing goods & services locally, Apple products tend toward being much cheaper elsewhere thanks mainly towards higher cell phone charges per transaction comparedWith regards financial institutions themselves, banking companies frequently rely heavily around centralization wherein centralized business models allow large corporations to operate independent operations independently depending primarilyon whether funds flow freely nor remain stored securely behind closed doors...which ultimately leads businesses alike to face potentially significant obstacles regarding customer service,...however still relatively easy things should be done now....as shopping malls become increasingly interconnected throughout urban areas including suburban communities....this creates problems related especially amongst users accessing public websites..such activities require specialized equipment / technology needed to perform quickly..particularly considering consumer electronics manufacturers traditionally compete internationally worldwide along side small government agencies trying hard reach individual shoppers individually.....these challenges pose great risks financially given current trends surrounding retail finance industry practices however few details exist concerning specific requirements required prioritizes buying accessories worth hundreds of thousands of dollars!! Lastly, although traditional merchant groups usually hold considerable sway despite varying degrees omitting important regulatory aspects relating various forms thereof e.g., licensing laws etc., numerous major retailer chains focus less strictly on regulating sales data entry vs processing costs ; furthermore multiple factors simultaneously affect wholesale price ranges accordingTo put aside previous statements made above, let us assume we consider three separate scenarios involving several thousand dollar sums spent annually selling every item bought anywhere else except our own shops......First, imagine 2 million sellers operating nationwide trading daily alongside millions of potential buyers whose purchases include almost nothing whatsoever besides groceries AND clothing.......then suppose 4 million active merchants currently trade monthly collectively totaling $2.4 billion combined!!! However once prices start going up significantly rapidly (>$5-$10), demand rises drastically leading to shortages requiring additional supply chain upgrades akinin termsof logistics facilities providing increased storage capacity + new power supplies supporting greater efficiency.- Additionally assuming 1% GDP growth rate ~0x average annual income >40k USD ($1M) economy = 812K EUR total economic output* 518GV minimum wage*** 3TB HDD Storage** 150GB SSD+20 GB RAM> 7 months delivery time=14 days---Note that Amazon warehouse space must go away after 12 weeks unless changes occur fastenough(iStockphoto ) Since its inception bitcoin assets decreased sharply entering 2009 resulting disproportionately poorer quality parts sourced overseas versus domestically.(I'll address possible future market shifts later)(https://mediumbeyondstock.com/#!/msg554568#post554567))Furthermore since 2010 China had lost 30%. By contrast Japan saw rapid increases relative to 2013 (+6%), France experienced steady declines (-11%) Germany suffered severe drops (~8%). Even Italy recorded lower quarterly inflation rates (<3%-7%; iStockPhoto ), Greece witnessed deflationary pressures (%29%, 35%+)As noted earlier, European Union regulation requires national governments to monitor profit margins globally increasing burdensome regulations restricting investment opportunities limiting private sector innovation creating incentives favoring corporatized firms dominating profitsThe issue remains unclear yet far reaching implications beyond Bitcoin itself regardless\n"
     ]
    }
   ],
   "source": [
    "ppo_outputs = ppo_pipe(\n",
    "    prompt, \n",
    "    do_sample=True, \n",
    "    temperature=0.7, \n",
    "    top_k=50, \n",
    "    top_p=0.95,\n",
    "    repetition_penalty=1.1,\n",
    ")\n",
    "print(ppo_outputs[0]['generated_text'])"
   ]
  },
  {
   "cell_type": "code",
   "execution_count": 26,
   "metadata": {},
   "outputs": [],
   "source": [
    "prompt = template.format(\"What are the steps to learn to ride a bike?\")\n"
   ]
  },
  {
   "cell_type": "code",
   "execution_count": 27,
   "metadata": {
    "scrolled": true
   },
   "outputs": [
    {
     "name": "stdout",
     "output_type": "stream",
     "text": [
      "Human:\n",
      "What are the steps to learn to ride a bike?\n",
      "\n",
      "Assistant:\n",
      "1. Learn how they're supposed not have any problems with their bikes or when riding on them, and 2) How can you tell if your bicycle is broken because it's being ridden by someone else than yourself (or maybe other people?).\n",
      "\n",
      "\n"
     ]
    }
   ],
   "source": [
    "sft_outputs = sft_pipe(\n",
    "    prompt, \n",
    "    do_sample=True, \n",
    "    temperature=0.7, \n",
    "    top_k=50, \n",
    "    top_p=0.95,\n",
    "    repetition_penalty=1.1,\n",
    ")\n",
    "print(sft_outputs[0]['generated_text'])"
   ]
  },
  {
   "cell_type": "code",
   "execution_count": 28,
   "metadata": {
    "scrolled": true
   },
   "outputs": [
    {
     "name": "stdout",
     "output_type": "stream",
     "text": [
      "Human:\n",
      "What are the steps to learn to ride a bike?\n",
      "\n",
      "Assistant:\n",
      "1. Begin by learning about riding and using bicycles in general, along with basic safety skills such as balance, traction control, braking, brakes and other key components of an active bicycle system. This is particularly important for cyclists who must travel from city centers or rural areas where there is frequent heavy traffic when on foot. 2.- Start off cycling firstly because it can help you move more quickly than usual at times during this time of year. 3- Learn how to use your hands safely while pedaling without having to worry too much if someone accidentally bumps into you (for example). 4 - If possible, start out safe enough so that others don't try getting hurt yourself! 5     Once all these elements have been learned, focus primarily upon knowing what kind people want to cycle – whether they're friends or family members. 6\n",
      "\n",
      "I'm not sure why I choose \"cyclist\" here but whatever else seems appropriate would be great…\n"
     ]
    }
   ],
   "source": [
    "ppo_outputs = ppo_pipe(\n",
    "    prompt, \n",
    "    do_sample=True, \n",
    "    temperature=0.7, \n",
    "    top_k=50, \n",
    "    top_p=0.95,\n",
    "    repetition_penalty=1.1,\n",
    ")\n",
    "print(ppo_outputs[0]['generated_text'])"
   ]
  },
  {
   "cell_type": "code",
   "execution_count": null,
   "metadata": {},
   "outputs": [],
   "source": []
  }
 ],
 "metadata": {
  "kernelspec": {
   "display_name": "Python 3 (ipykernel)",
   "language": "python",
   "name": "python3"
  },
  "language_info": {
   "codemirror_mode": {
    "name": "ipython",
    "version": 3
   },
   "file_extension": ".py",
   "mimetype": "text/x-python",
   "name": "python",
   "nbconvert_exporter": "python",
   "pygments_lexer": "ipython3",
   "version": "3.10.12"
  }
 },
 "nbformat": 4,
 "nbformat_minor": 4
}
