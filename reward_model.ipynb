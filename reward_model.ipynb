{
 "cells": [
  {
   "cell_type": "code",
   "execution_count": 23,
   "metadata": {},
   "outputs": [],
   "source": [
    "import os\n",
    "import torch\n",
    "from datasets import load_dataset, concatenate_datasets\n",
    "from transformers import (\n",
    "    TrainingArguments,\n",
    "    AutoModelForSequenceClassification,\n",
    "    AutoTokenizer,\n",
    "    pipeline,\n",
    "    logging,\n",
    "    Trainer\n",
    ")\n",
    "from trl import RewardTrainer\n",
    "import pandas as pd"
   ]
  },
  {
   "cell_type": "code",
   "execution_count": 22,
   "metadata": {},
   "outputs": [],
   "source": [
    "batch_size = 16\n",
    "num_workers = os.cpu_count()\n",
    "# max_steps = 3000\n",
    "bf16 = True\n",
    "fp16 = False\n",
    "# gradient_accumulation_steps = 2\n",
    "context_length = 1024\n",
    "logging_steps = 500\n",
    "save_steps = 500\n",
    "learning_rate = 2e-4\n",
    "model_name = 'outputs/gpt2_sft_instruction/final_model/'\n",
    "out_dir = 'outputs/gpt2_reward_model'"
   ]
  },
  {
   "cell_type": "code",
   "execution_count": 2,
   "metadata": {},
   "outputs": [],
   "source": [
    "hh_rlhf = load_dataset('Anthropic/hh-rlhf')"
   ]
  },
  {
   "cell_type": "code",
   "execution_count": 3,
   "metadata": {},
   "outputs": [
    {
     "data": {
      "text/plain": [
       "DatasetDict({\n",
       "    train: Dataset({\n",
       "        features: ['chosen', 'rejected'],\n",
       "        num_rows: 160800\n",
       "    })\n",
       "    test: Dataset({\n",
       "        features: ['chosen', 'rejected'],\n",
       "        num_rows: 8552\n",
       "    })\n",
       "})"
      ]
     },
     "execution_count": 3,
     "metadata": {},
     "output_type": "execute_result"
    }
   ],
   "source": [
    "hh_rlhf"
   ]
  },
  {
   "cell_type": "code",
   "execution_count": 6,
   "metadata": {},
   "outputs": [],
   "source": [
    "half_dataset_hh_rlhf = hh_rlhf['train'].train_test_split(test_size=0.5, shuffle=True, seed=42)['test'].train_test_split(test_size=0.05, shuffle=True, seed=42)\n",
    "half_dataset_hh_rlhf_train = half_dataset_hh_rlhf['train']\n",
    "half_dataset_hh_rlhf_val = half_dataset_hh_rlhf['test']\n",
    "half_dataset_hh_rlhf_test = hh_rlhf['test']"
   ]
  },
  {
   "cell_type": "code",
   "execution_count": 7,
   "metadata": {},
   "outputs": [
    {
     "name": "stdout",
     "output_type": "stream",
     "text": [
      "Dataset({\n",
      "    features: ['chosen', 'rejected'],\n",
      "    num_rows: 76380\n",
      "})\n",
      "Dataset({\n",
      "    features: ['chosen', 'rejected'],\n",
      "    num_rows: 4020\n",
      "})\n",
      "Dataset({\n",
      "    features: ['chosen', 'rejected'],\n",
      "    num_rows: 8552\n",
      "})\n"
     ]
    }
   ],
   "source": [
    "print(half_dataset_hh_rlhf_train)\n",
    "print(half_dataset_hh_rlhf_val)\n",
    "print(half_dataset_hh_rlhf_test)"
   ]
  },
  {
   "cell_type": "code",
   "execution_count": 8,
   "metadata": {},
   "outputs": [],
   "source": [
    "train_dataset_dict = {\"input_text\": [], \"label\": []}\n",
    "val_dataset_dict = {\"input_text\": [], \"label\": []}\n",
    "test_dataset_dict = {\"input_text\": [], \"label\": []}"
   ]
  },
  {
   "cell_type": "code",
   "execution_count": 16,
   "metadata": {},
   "outputs": [],
   "source": [
    "tokenizer = AutoTokenizer.from_pretrained(\n",
    "    model_name, \n",
    "    trust_remote_code=True,\n",
    "    use_fast=False\n",
    ")\n",
    "tokenizer.padding_side = \"left\"\n",
    "tokenizer.pad_token = tokenizer.eos_token"
   ]
  },
  {
   "cell_type": "code",
   "execution_count": 17,
   "metadata": {},
   "outputs": [],
   "source": [
    "def preprocess_function(examples):\n",
    "    new_examples = {\n",
    "        \"input_ids\": [],\n",
    "        \"label\": [],\n",
    "    }\n",
    "    for chosen, rejected in zip(examples[\"chosen\"], examples[\"rejected\"]):\n",
    "        tokenized_c = tokenizer(chosen, truncation=True, max_length=context_length, padding='max_length')\n",
    "        tokenized_r = tokenizer(rejected, truncation=True, max_length=context_length, padding='max_length')\n",
    "\n",
    "        new_examples[\"input_ids\"].append(tokenized_c[\"input_ids\"])\n",
    "        new_examples[\"label\"].append(1)\n",
    "        new_examples[\"input_ids\"].append(tokenized_r[\"input_ids\"])\n",
    "        new_examples[\"label\"].append(0)\n",
    "\n",
    "    return new_examples"
   ]
  },
  {
   "cell_type": "code",
   "execution_count": 18,
   "metadata": {},
   "outputs": [
    {
     "data": {
      "application/vnd.jupyter.widget-view+json": {
       "model_id": "b6326e9e310e44489dda6af4fc9a137c",
       "version_major": 2,
       "version_minor": 0
      },
      "text/plain": [
       "Map (num_proc=4):   0%|          | 0/76380 [00:00<?, ? examples/s]"
      ]
     },
     "metadata": {},
     "output_type": "display_data"
    },
    {
     "data": {
      "application/vnd.jupyter.widget-view+json": {
       "model_id": "699d5b1772f64da5ada2f440124b282b",
       "version_major": 2,
       "version_minor": 0
      },
      "text/plain": [
       "Map (num_proc=4):   0%|          | 0/4020 [00:00<?, ? examples/s]"
      ]
     },
     "metadata": {},
     "output_type": "display_data"
    },
    {
     "data": {
      "application/vnd.jupyter.widget-view+json": {
       "model_id": "ce9464c0b62345bc985dff4c3d7aa960",
       "version_major": 2,
       "version_minor": 0
      },
      "text/plain": [
       "Map (num_proc=4):   0%|          | 0/8552 [00:00<?, ? examples/s]"
      ]
     },
     "metadata": {},
     "output_type": "display_data"
    }
   ],
   "source": [
    "half_dataset_hh_rlhf_train = half_dataset_hh_rlhf_train.map(preprocess_function, batched=True, num_proc=4)\n",
    "half_dataset_hh_rlhf_val = half_dataset_hh_rlhf_val.map(preprocess_function, batched=True, num_proc=4)\n",
    "half_dataset_hh_rlhf_test = half_dataset_hh_rlhf_test.map(preprocess_function, batched=True, num_proc=4)"
   ]
  },
  {
   "cell_type": "code",
   "execution_count": null,
   "metadata": {},
   "outputs": [],
   "source": [
    "model = AutoModelForSequenceClassification.from_pretrained(\n",
    "    model_name,\n",
    "    num_labels=1,\n",
    ")"
   ]
  },
  {
   "cell_type": "code",
   "execution_count": null,
   "metadata": {},
   "outputs": [],
   "source": [
    "model.config.pad_token_id = model.config.eos_token_id\n",
    "model.resize_token_embeddings(len(tokenizer))"
   ]
  },
  {
   "cell_type": "code",
   "execution_count": null,
   "metadata": {},
   "outputs": [],
   "source": [
    "training_args = TrainingArguments(\n",
    "    output_dir=f\"{out_dir}/logs\",\n",
    "    evaluation_strategy='steps',\n",
    "    weight_decay=0.01,\n",
    "    load_best_model_at_end=True,\n",
    "    per_device_train_batch_size=batch_size,\n",
    "    per_device_eval_batch_size=batch_size,\n",
    "    logging_strategy='steps',\n",
    "    save_strategy='steps',\n",
    "    logging_steps=logging_steps,\n",
    "    save_steps=save_steps,\n",
    "    save_total_limit=3,\n",
    "    bf16=bf16,\n",
    "    fp16=fp16,\n",
    "    # report_to='tensorboard',\n",
    "    num_train_epochs=3,\n",
    "    dataloader_num_workers=num_workers,\n",
    "    # gradient_accumulation_steps=gradient_accumulation_steps,\n",
    "    learning_rate=learning_rate,\n",
    "    # lr_scheduler_type='constant',\n",
    ")"
   ]
  },
  {
   "cell_type": "code",
   "execution_count": null,
   "metadata": {},
   "outputs": [],
   "source": [
    "trainer = RewardTrainer(\n",
    "    model=model,\n",
    "    tokenizer=tokenizer,\n",
    "    args=training_args,\n",
    "    train_dataset=half_dataset_hh_rlhf_train,\n",
    "    eval_dataset=half_dataset_hh_rlhf_val,\n",
    ")"
   ]
  },
  {
   "cell_type": "code",
   "execution_count": null,
   "metadata": {},
   "outputs": [],
   "source": [
    "trainer.train()"
   ]
  },
  {
   "cell_type": "code",
   "execution_count": null,
   "metadata": {},
   "outputs": [],
   "source": [
    "trainer.save_model(f\"{out_dir}/final_model\")\n",
    "tokenizer.save_pretrained(f\"{out_dir}/final_model\")"
   ]
  }
 ],
 "metadata": {
  "kernelspec": {
   "display_name": "nlp",
   "language": "python",
   "name": "python3"
  },
  "language_info": {
   "codemirror_mode": {
    "name": "ipython",
    "version": 3
   },
   "file_extension": ".py",
   "mimetype": "text/x-python",
   "name": "python",
   "nbconvert_exporter": "python",
   "pygments_lexer": "ipython3",
   "version": "3.10.13"
  }
 },
 "nbformat": 4,
 "nbformat_minor": 2
}
